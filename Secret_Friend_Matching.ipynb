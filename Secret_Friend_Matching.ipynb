{
 "cells": [
  {
   "cell_type": "code",
   "execution_count": 49,
   "id": "ce52ed5e-7272-458e-a3b2-3dd8a4d4d074",
   "metadata": {},
   "outputs": [],
   "source": [
    "import pandas as pd"
   ]
  },
  {
   "cell_type": "code",
   "execution_count": 50,
   "id": "f26f42d6-e475-4ff2-aecf-9f6f0a6befd3",
   "metadata": {},
   "outputs": [],
   "source": [
    "import random"
   ]
  },
  {
   "cell_type": "code",
   "execution_count": 51,
   "id": "2d2b4442-af23-462a-af31-ba070651e9c5",
   "metadata": {},
   "outputs": [],
   "source": [
    "file_path = \"Desktop/PYC Secret Friend.xlsx\""
   ]
  },
  {
   "cell_type": "code",
   "execution_count": 52,
   "id": "bccfca3c-74b3-4d87-ae82-2c8abe7cd67a",
   "metadata": {},
   "outputs": [],
   "source": [
    "df = pd.read_excel(file_path)"
   ]
  },
  {
   "cell_type": "code",
   "execution_count": 53,
   "id": "2a69c8ef-4b6b-4fa8-860e-68b6d1d88373",
   "metadata": {},
   "outputs": [
    {
     "name": "stdout",
     "output_type": "stream",
     "text": [
      "Column names: ['name', 'gender']\n"
     ]
    }
   ],
   "source": [
    "print(\"Column names:\", df.columns.tolist())"
   ]
  },
  {
   "cell_type": "code",
   "execution_count": 54,
   "id": "e93c71a0-ad89-47c6-8238-9ddcebfc761f",
   "metadata": {},
   "outputs": [],
   "source": [
    "df = df.dropna(subset=['name'])"
   ]
  },
  {
   "cell_type": "code",
   "execution_count": 55,
   "id": "7fdf8919-5c55-4567-bfbb-939c9e611e8c",
   "metadata": {},
   "outputs": [],
   "source": [
    "names = df['name'].tolist()"
   ]
  },
  {
   "cell_type": "code",
   "execution_count": 56,
   "id": "1034ff1a-7fe9-459a-940d-de62679ffcab",
   "metadata": {},
   "outputs": [],
   "source": [
    "random.shuffle(names)"
   ]
  },
  {
   "cell_type": "code",
   "execution_count": 57,
   "id": "85ae181b-5610-443f-9c2e-a0cfa86b2132",
   "metadata": {},
   "outputs": [],
   "source": [
    "pairs = list(zip(names[::2], names[1::2]))"
   ]
  },
  {
   "cell_type": "code",
   "execution_count": 58,
   "id": "d9c8edb5-177f-44b1-a5d0-9d8b0118669c",
   "metadata": {},
   "outputs": [],
   "source": [
    "extra_name = names[-1] if len(names) % 2 != 0 else None"
   ]
  },
  {
   "cell_type": "code",
   "execution_count": 59,
   "id": "70f33028-f6c9-4668-adf7-7325c7c30538",
   "metadata": {},
   "outputs": [
    {
     "name": "stdout",
     "output_type": "stream",
     "text": [
      "\n",
      "Paired Names:\n",
      "Roseline Nyaboke - Eunice Mocheche\n",
      "Miriam Odongo - Debby Nyanchoka\n",
      "Faith Opiyo - Mercy Awuor\n",
      "Stacy Nyarangi - Kimfra\n",
      "Rosedolly Nyakerario - Christine Peters\n",
      "Dollyvis Kerubo - Camilla Joy\n",
      "EdelQueen A. - Fiona Maswai\n",
      "Yvonne Opiyo - Belinda Jabuya\n"
     ]
    }
   ],
   "source": [
    "print(\"\\nPaired Names:\")\n",
    "for pair in pairs:\n",
    "    print(f\"{pair[0]} - {pair[1]}\")"
   ]
  },
  {
   "cell_type": "code",
   "execution_count": 60,
   "id": "f40c3c80-c4b7-4e8c-ba24-1625344ca4ab",
   "metadata": {},
   "outputs": [
    {
     "name": "stdout",
     "output_type": "stream",
     "text": [
      "\n",
      "Unpaired Name: Shilla Kadzo\n"
     ]
    }
   ],
   "source": [
    "if extra_name:\n",
    "    print(\"\\nUnpaired Name:\", extra_name)"
   ]
  },
  {
   "cell_type": "code",
   "execution_count": null,
   "id": "807a3c6e-42dc-40be-a21e-7f6b41fe8ec6",
   "metadata": {},
   "outputs": [],
   "source": []
  },
  {
   "cell_type": "code",
   "execution_count": null,
   "id": "a2dc8dfd-4b9d-4fc7-8ac5-56d095d57217",
   "metadata": {},
   "outputs": [],
   "source": []
  }
 ],
 "metadata": {
  "kernelspec": {
   "display_name": "Python 3 (ipykernel)",
   "language": "python",
   "name": "python3"
  },
  "language_info": {
   "codemirror_mode": {
    "name": "ipython",
    "version": 3
   },
   "file_extension": ".py",
   "mimetype": "text/x-python",
   "name": "python",
   "nbconvert_exporter": "python",
   "pygments_lexer": "ipython3",
   "version": "3.12.7"
  }
 },
 "nbformat": 4,
 "nbformat_minor": 5
}
